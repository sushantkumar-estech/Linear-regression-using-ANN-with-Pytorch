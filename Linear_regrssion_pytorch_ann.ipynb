{
  "nbformat": 4,
  "nbformat_minor": 0,
  "metadata": {
    "kernelspec": {
      "display_name": "Python 3",
      "language": "python",
      "name": "python3"
    },
    "language_info": {
      "codemirror_mode": {
        "name": "ipython",
        "version": 3
      },
      "file_extension": ".py",
      "mimetype": "text/x-python",
      "name": "python",
      "nbconvert_exporter": "python",
      "pygments_lexer": "ipython3",
      "version": "3.7.3"
    },
    "colab": {
      "name": "01-Linear_regrssion_pytorch_sushant.ipynb",
      "provenance": [],
      "include_colab_link": true
    }
  },
  "cells": [
    {
      "cell_type": "markdown",
      "metadata": {
        "id": "view-in-github",
        "colab_type": "text"
      },
      "source": [
        "<a href=\"https://colab.research.google.com/github/sushantkumar-estech/Linear-regression-using-ANN-with-Pytorch/blob/master/Linear_regrssion_pytorch_ann.ipynb\" target=\"_parent\"><img src=\"https://colab.research.google.com/assets/colab-badge.svg\" alt=\"Open In Colab\"/></a>"
      ]
    },
    {
      "cell_type": "code",
      "metadata": {
        "id": "0BJMI6gz6mGR",
        "colab_type": "code",
        "colab": {}
      },
      "source": [
        "import torch\n",
        "import numpy as np\n",
        "import matplotlib.pyplot as plt\n",
        "%matplotlib inline"
      ],
      "execution_count": 12,
      "outputs": []
    },
    {
      "cell_type": "code",
      "metadata": {
        "id": "Kf9AVxRD6mGU",
        "colab_type": "code",
        "colab": {}
      },
      "source": [
        "import torch.nn as nn   # importing neural network function"
      ],
      "execution_count": 13,
      "outputs": []
    },
    {
      "cell_type": "code",
      "metadata": {
        "id": "qaSBDsBB6mGW",
        "colab_type": "code",
        "colab": {}
      },
      "source": [
        "X = torch.linspace(1,50,50).reshape(-1,1)  # reshape(-1,1) allows to have entire value in columns"
      ],
      "execution_count": 14,
      "outputs": []
    },
    {
      "cell_type": "code",
      "metadata": {
        "id": "TDQvh93d6mGY",
        "colab_type": "code",
        "colab": {
          "base_uri": "https://localhost:8080/",
          "height": 34
        },
        "outputId": "9bd2a4ef-db10-456e-ed13-3f95b21dcf55"
      },
      "source": [
        "X.shape"
      ],
      "execution_count": 15,
      "outputs": [
        {
          "output_type": "execute_result",
          "data": {
            "text/plain": [
              "torch.Size([50, 1])"
            ]
          },
          "metadata": {
            "tags": []
          },
          "execution_count": 15
        }
      ]
    },
    {
      "cell_type": "code",
      "metadata": {
        "id": "ukGhQoMY6mGb",
        "colab_type": "code",
        "colab": {}
      },
      "source": [
        "torch.manual_seed(71)\n",
        "e = torch.randint(-8,9, (50,1), dtype = torch.float)"
      ],
      "execution_count": 16,
      "outputs": []
    },
    {
      "cell_type": "code",
      "metadata": {
        "id": "ASylN9Zi6mGd",
        "colab_type": "code",
        "colab": {
          "base_uri": "https://localhost:8080/",
          "height": 867
        },
        "outputId": "6ab59591-6c60-47d3-f595-753ff25dc8af"
      },
      "source": [
        "e"
      ],
      "execution_count": 17,
      "outputs": [
        {
          "output_type": "execute_result",
          "data": {
            "text/plain": [
              "tensor([[ 2.],\n",
              "        [ 7.],\n",
              "        [ 2.],\n",
              "        [ 6.],\n",
              "        [ 2.],\n",
              "        [-4.],\n",
              "        [ 2.],\n",
              "        [-5.],\n",
              "        [ 4.],\n",
              "        [ 1.],\n",
              "        [ 2.],\n",
              "        [ 3.],\n",
              "        [ 1.],\n",
              "        [-8.],\n",
              "        [ 5.],\n",
              "        [ 5.],\n",
              "        [-6.],\n",
              "        [ 0.],\n",
              "        [-7.],\n",
              "        [-8.],\n",
              "        [-3.],\n",
              "        [-1.],\n",
              "        [ 2.],\n",
              "        [-6.],\n",
              "        [-3.],\n",
              "        [ 3.],\n",
              "        [ 2.],\n",
              "        [ 3.],\n",
              "        [ 4.],\n",
              "        [ 5.],\n",
              "        [ 1.],\n",
              "        [ 7.],\n",
              "        [ 6.],\n",
              "        [-1.],\n",
              "        [-6.],\n",
              "        [-5.],\n",
              "        [-3.],\n",
              "        [ 7.],\n",
              "        [ 0.],\n",
              "        [ 8.],\n",
              "        [-1.],\n",
              "        [-2.],\n",
              "        [ 2.],\n",
              "        [-8.],\n",
              "        [-1.],\n",
              "        [ 6.],\n",
              "        [-8.],\n",
              "        [-3.],\n",
              "        [-7.],\n",
              "        [-2.]])"
            ]
          },
          "metadata": {
            "tags": []
          },
          "execution_count": 17
        }
      ]
    },
    {
      "cell_type": "code",
      "metadata": {
        "id": "fnQrrswp6mGf",
        "colab_type": "code",
        "colab": {}
      },
      "source": [
        "y = 2*X + 1 + e"
      ],
      "execution_count": 18,
      "outputs": []
    },
    {
      "cell_type": "code",
      "metadata": {
        "id": "oUbTotcP6mGh",
        "colab_type": "code",
        "colab": {
          "base_uri": "https://localhost:8080/",
          "height": 34
        },
        "outputId": "94574cc8-f8d5-4419-9caa-d09a33a9893e"
      },
      "source": [
        "y.shape"
      ],
      "execution_count": 19,
      "outputs": [
        {
          "output_type": "execute_result",
          "data": {
            "text/plain": [
              "torch.Size([50, 1])"
            ]
          },
          "metadata": {
            "tags": []
          },
          "execution_count": 19
        }
      ]
    },
    {
      "cell_type": "code",
      "metadata": {
        "id": "Tw3nBdAo6mGj",
        "colab_type": "code",
        "colab": {
          "base_uri": "https://localhost:8080/",
          "height": 282
        },
        "outputId": "dc2f0fbb-5e1f-498f-9321-d8d2df26c72d"
      },
      "source": [
        "plt.plot(X.numpy(),y.numpy())  # conversion of tensor to numpy for plotting"
      ],
      "execution_count": 20,
      "outputs": [
        {
          "output_type": "execute_result",
          "data": {
            "text/plain": [
              "[<matplotlib.lines.Line2D at 0x7f7d7cd6dba8>]"
            ]
          },
          "metadata": {
            "tags": []
          },
          "execution_count": 20
        },
        {
          "output_type": "display_data",
          "data": {
            "image/png": "[encoded data removed]",
            "text/plain": [
              "<Figure size 432x288 with 1 Axes>"
            ]
          },
          "metadata": {
            "tags": [],
            "needs_background": "light"
          }
        }
      ]
    },
    {
      "cell_type": "code",
      "metadata": {
        "id": "q7np3unZ6mGn",
        "colab_type": "code",
        "colab": {
          "base_uri": "https://localhost:8080/",
          "height": 282
        },
        "outputId": "5c77df27-ad71-49b4-e81c-86a3e89b1b31"
      },
      "source": [
        "plt.scatter(X.numpy(),y.numpy())"
      ],
      "execution_count": 21,
      "outputs": [
        {
          "output_type": "execute_result",
          "data": {
            "text/plain": [
              "<matplotlib.collections.PathCollection at 0x7f7d7c8b4c50>"
            ]
          },
          "metadata": {
            "tags": []
          },
          "execution_count": 21
        },
        {
          "output_type": "display_data",
          "data": {
            "image/png": "[encoded data removed]",
            "text/plain": [
              "<Figure size 432x288 with 1 Axes>"
            ]
          },
          "metadata": {
            "tags": [],
            "needs_background": "light"
          }
        }
      ]
    },
    {
      "cell_type": "code",
      "metadata": {
        "id": "FQxqeGoQ6mGp",
        "colab_type": "code",
        "colab": {
          "base_uri": "https://localhost:8080/",
          "height": 85
        },
        "outputId": "5078f63f-5777-435d-bc27-b18905ffea59"
      },
      "source": [
        "torch.manual_seed(59)\n",
        "## defining the simple Linear model with single linear layer\n",
        "model = nn.Linear(in_features=1, out_features=1)\n",
        "\n",
        "print(model.weight)\n",
        "print(model.bias)"
      ],
      "execution_count": 22,
      "outputs": [
        {
          "output_type": "stream",
          "text": [
            "Parameter containing:\n",
            "tensor([[0.1060]], requires_grad=True)\n",
            "Parameter containing:\n",
            "tensor([0.9638], requires_grad=True)\n"
          ],
          "name": "stdout"
        }
      ]
    },
    {
      "cell_type": "code",
      "metadata": {
        "id": "OIUmhRe96mGr",
        "colab_type": "code",
        "colab": {}
      },
      "source": [
        "class Model(nn.Module):\n",
        "    def __init__(self, in_features, out_features):\n",
        "        super().__init__()\n",
        "        self.linear = nn.Linear(in_features, out_features)\n",
        "        \n",
        "    def forward(self, x):\n",
        "        y_pred = self.linear(x)\n",
        "        return y_pred"
      ],
      "execution_count": 23,
      "outputs": []
    },
    {
      "cell_type": "code",
      "metadata": {
        "id": "2rrf3be66mGt",
        "colab_type": "code",
        "colab": {
          "base_uri": "https://localhost:8080/",
          "height": 85
        },
        "outputId": "c08c2d92-193e-4dad-a680-705fa94d92a6"
      },
      "source": [
        "torch.manual_seed(59)\n",
        "\n",
        "model = Model(1,1)\n",
        "\n",
        "print(model.linear.weight)\n",
        "print(model.linear.bias)"
      ],
      "execution_count": 24,
      "outputs": [
        {
          "output_type": "stream",
          "text": [
            "Parameter containing:\n",
            "tensor([[0.1060]], requires_grad=True)\n",
            "Parameter containing:\n",
            "tensor([0.9638], requires_grad=True)\n"
          ],
          "name": "stdout"
        }
      ]
    },
    {
      "cell_type": "code",
      "metadata": {
        "id": "zAIfgk3R6mGv",
        "colab_type": "code",
        "colab": {
          "base_uri": "https://localhost:8080/",
          "height": 51
        },
        "outputId": "3db8a887-ebe0-4d1a-bd3e-e2f2bdda6332"
      },
      "source": [
        "for name,param in model.named_parameters():\n",
        "    print(name,'\\t', param.item())"
      ],
      "execution_count": 25,
      "outputs": [
        {
          "output_type": "stream",
          "text": [
            "linear.weight \t 0.10597813129425049\n",
            "linear.bias \t 0.9637961387634277\n"
          ],
          "name": "stdout"
        }
      ]
    },
    {
      "cell_type": "code",
      "metadata": {
        "id": "unbfxbGL6mGx",
        "colab_type": "code",
        "colab": {
          "base_uri": "https://localhost:8080/",
          "height": 34
        },
        "outputId": "f160c9e7-b7bf-4450-ebc9-924e099e8d36"
      },
      "source": [
        "x = torch.tensor([2.0])\n",
        "print(model.forward(x))"
      ],
      "execution_count": 26,
      "outputs": [
        {
          "output_type": "stream",
          "text": [
            "tensor([1.1758], grad_fn=<AddBackward0>)\n"
          ],
          "name": "stdout"
        }
      ]
    },
    {
      "cell_type": "code",
      "metadata": {
        "id": "XW5n5deG6mGz",
        "colab_type": "code",
        "colab": {}
      },
      "source": [
        "x1 = np.linspace(0.0,50,50)"
      ],
      "execution_count": 27,
      "outputs": []
    },
    {
      "cell_type": "code",
      "metadata": {
        "id": "UCFjUndS6mG1",
        "colab_type": "code",
        "colab": {
          "base_uri": "https://localhost:8080/",
          "height": 187
        },
        "outputId": "816634ff-7c01-44be-ad81-4c8651968467"
      },
      "source": [
        "x1"
      ],
      "execution_count": 28,
      "outputs": [
        {
          "output_type": "execute_result",
          "data": {
            "text/plain": [
              "array([ 0.        ,  1.02040816,  2.04081633,  3.06122449,  4.08163265,\n",
              "        5.10204082,  6.12244898,  7.14285714,  8.16326531,  9.18367347,\n",
              "       10.20408163, 11.2244898 , 12.24489796, 13.26530612, 14.28571429,\n",
              "       15.30612245, 16.32653061, 17.34693878, 18.36734694, 19.3877551 ,\n",
              "       20.40816327, 21.42857143, 22.44897959, 23.46938776, 24.48979592,\n",
              "       25.51020408, 26.53061224, 27.55102041, 28.57142857, 29.59183673,\n",
              "       30.6122449 , 31.63265306, 32.65306122, 33.67346939, 34.69387755,\n",
              "       35.71428571, 36.73469388, 37.75510204, 38.7755102 , 39.79591837,\n",
              "       40.81632653, 41.83673469, 42.85714286, 43.87755102, 44.89795918,\n",
              "       45.91836735, 46.93877551, 47.95918367, 48.97959184, 50.        ])"
            ]
          },
          "metadata": {
            "tags": []
          },
          "execution_count": 28
        }
      ]
    },
    {
      "cell_type": "code",
      "metadata": {
        "id": "NRPId0JO6mG3",
        "colab_type": "code",
        "colab": {}
      },
      "source": [
        "w1 = 0.10597813129425049\n",
        "b1 = 0.9637961387634277\n",
        "\n",
        "y1 =w1*x1 + b1"
      ],
      "execution_count": 29,
      "outputs": []
    },
    {
      "cell_type": "code",
      "metadata": {
        "id": "sI4Imu7p6mG5",
        "colab_type": "code",
        "colab": {
          "base_uri": "https://localhost:8080/",
          "height": 187
        },
        "outputId": "33f15f38-7496-4ec7-ffd3-16b46dd37de2"
      },
      "source": [
        "y1"
      ],
      "execution_count": 30,
      "outputs": [
        {
          "output_type": "execute_result",
          "data": {
            "text/plain": [
              "array([0.96379614, 1.07193709, 1.18007804, 1.28821899, 1.39635994,\n",
              "       1.50450089, 1.61264184, 1.72078279, 1.82892374, 1.93706469,\n",
              "       2.04520564, 2.15334659, 2.26148754, 2.36962849, 2.47776944,\n",
              "       2.58591039, 2.69405134, 2.80219229, 2.91033324, 3.01847419,\n",
              "       3.12661514, 3.2347561 , 3.34289705, 3.451038  , 3.55917895,\n",
              "       3.6673199 , 3.77546085, 3.8836018 , 3.99174275, 4.0998837 ,\n",
              "       4.20802465, 4.3161656 , 4.42430655, 4.5324475 , 4.64058845,\n",
              "       4.7487294 , 4.85687035, 4.9650113 , 5.07315225, 5.1812932 ,\n",
              "       5.28943415, 5.3975751 , 5.50571605, 5.613857  , 5.72199795,\n",
              "       5.8301389 , 5.93827985, 6.0464208 , 6.15456175, 6.2627027 ])"
            ]
          },
          "metadata": {
            "tags": []
          },
          "execution_count": 30
        }
      ]
    },
    {
      "cell_type": "code",
      "metadata": {
        "id": "blJdn4sV6mG7",
        "colab_type": "code",
        "colab": {
          "base_uri": "https://localhost:8080/",
          "height": 282
        },
        "outputId": "d792c78f-f38c-4cfd-99af-815520412797"
      },
      "source": [
        "plt.scatter(X.numpy(), y.numpy())\n",
        "plt.plot(x1,y1,'r')"
      ],
      "execution_count": 31,
      "outputs": [
        {
          "output_type": "execute_result",
          "data": {
            "text/plain": [
              "[<matplotlib.lines.Line2D at 0x7f7d7c877860>]"
            ]
          },
          "metadata": {
            "tags": []
          },
          "execution_count": 31
        },
        {
          "output_type": "display_data",
          "data": {
            "image/png": "[encoded data removed]",
            "text/plain": [
              "<Figure size 432x288 with 1 Axes>"
            ]
          },
          "metadata": {
            "tags": [],
            "needs_background": "light"
          }
        }
      ]
    },
    {
      "cell_type": "code",
      "metadata": {
        "id": "GwtaV1gJ6mG9",
        "colab_type": "code",
        "colab": {}
      },
      "source": [
        "criterion = nn.MSELoss()  # evaluating the network performance on MSE bases"
      ],
      "execution_count": 32,
      "outputs": []
    },
    {
      "cell_type": "code",
      "metadata": {
        "id": "QY780VNt6mG_",
        "colab_type": "code",
        "colab": {}
      },
      "source": [
        "optimizer = torch.optim.SGD(model.parameters(), lr=0.001)  #defining stochastic gradient descent optimizer"
      ],
      "execution_count": 33,
      "outputs": []
    },
    {
      "cell_type": "code",
      "metadata": {
        "id": "jtDT_dxm6mHA",
        "colab_type": "code",
        "colab": {
          "base_uri": "https://localhost:8080/",
          "height": 867
        },
        "outputId": "ae8fb473-ac4d-4b0b-8dcd-70f2c1607e65"
      },
      "source": [
        "# Now training the model with chossinf number of epochs\n",
        "epochs = 50\n",
        "losses = []\n",
        "\n",
        "for i in range(epochs):\n",
        "    \n",
        "    i = i+1\n",
        "    \n",
        "    # PREDICTING ON THE FORWARD PASS\n",
        "    y_pred=model.forward(X)\n",
        "    \n",
        "    # CACULATE OUR LOSS (ERROR)\n",
        "    loss = criterion(y_pred,y)\n",
        "    \n",
        "    # RECORD THAT ERROR\n",
        "    losses.append(loss)\n",
        "    \n",
        "    print(f\"epoch{i} loss:{loss.item()} weight:{model.linear.weight.item()} bias:{model.linear.bias.item()}\")\n",
        "    \n",
        "    optimizer.zero_grad()  # stopping gradient from compounding during backpropapgation\n",
        "    \n",
        "    loss.backward()  # proform backpropagation\n",
        "    optimizer.step() #update the hyperpaprameter, here is is single weight and single bias\n",
        "    "
      ],
      "execution_count": 34,
      "outputs": [
        {
          "output_type": "stream",
          "text": [
            "epoch1 loss:3057.216796875 weight:0.10597813129425049 bias:0.9637961387634277\n",
            "epoch2 loss:1588.53076171875 weight:3.334900140762329 bias:1.0604636669158936\n",
            "epoch3 loss:830.2999267578125 weight:1.014832854270935 bias:0.9922628402709961\n",
            "epoch4 loss:438.8521423339844 weight:2.6817994117736816 bias:1.0425218343734741\n",
            "epoch5 loss:236.76144409179688 weight:1.4840213060379028 bias:1.0076650381088257\n",
            "epoch6 loss:132.4291229248047 weight:2.3446059226989746 bias:1.0339646339416504\n",
            "epoch7 loss:78.56573486328125 weight:1.7262253761291504 bias:1.0163217782974243\n",
            "epoch8 loss:50.75775909423828 weight:2.170504093170166 bias:1.0302516222000122\n",
            "epoch9 loss:36.4012336730957 weight:1.8512457609176636 bias:1.0214954614639282\n",
            "epoch10 loss:28.98923110961914 weight:2.0806007385253906 bias:1.029038906097412\n",
            "epoch11 loss:25.16238784790039 weight:1.9157683849334717 bias:1.0248701572418213\n",
            "epoch12 loss:23.186473846435547 weight:2.034165620803833 bias:1.0291162729263306\n",
            "epoch13 loss:22.166122436523438 weight:1.9490584135055542 bias:1.027315616607666\n",
            "epoch14 loss:21.639110565185547 weight:2.010172128677368 bias:1.0298590660095215\n",
            "epoch15 loss:21.366769790649414 weight:1.9662237167358398 bias:1.0292805433273315\n",
            "epoch16 loss:21.225919723510742 weight:1.997764229774475 bias:1.030944585800171\n",
            "epoch17 loss:21.152944564819336 weight:1.9750648736953735 bias:1.0309966802597046\n",
            "epoch18 loss:21.115013122558594 weight:1.991337537765503 bias:1.032206416130066\n",
            "epoch19 loss:21.09518051147461 weight:1.9796085357666016 bias:1.0325838327407837\n",
            "epoch20 loss:21.084684371948242 weight:1.9879988431930542 bias:1.0335586071014404\n",
            "epoch21 loss:21.07901382446289 weight:1.981933355331421 bias:1.034103512763977\n",
            "epoch22 loss:21.075830459594727 weight:1.9862544536590576 bias:1.034956693649292\n",
            "epoch23 loss:21.07394027709961 weight:1.9831126928329468 bias:1.0355877876281738\n",
            "epoch24 loss:21.072702407836914 weight:1.9853330850601196 bias:1.0363779067993164\n",
            "epoch25 loss:21.071819305419922 weight:1.9837009906768799 bias:1.037053108215332\n",
            "epoch26 loss:21.07110595703125 weight:1.9848365783691406 bias:1.037810206413269\n",
            "epoch27 loss:21.070484161376953 weight:1.9839837551116943 bias:1.0385079383850098\n",
            "epoch28 loss:21.069913864135742 weight:1.9845597743988037 bias:1.039247751235962\n",
            "epoch29 loss:21.06937026977539 weight:1.9841090440750122 bias:1.0399566888809204\n",
            "epoch30 loss:21.068838119506836 weight:1.9843961000442505 bias:1.0406872034072876\n",
            "epoch31 loss:21.068307876586914 weight:1.984152913093567 bias:1.0414016246795654\n",
            "epoch32 loss:21.067781448364258 weight:1.9842908382415771 bias:1.042127013206482\n",
            "epoch33 loss:21.0672664642334 weight:1.9841549396514893 bias:1.0428439378738403\n",
            "epoch34 loss:21.066740036010742 weight:1.9842157363891602 bias:1.043566346168518\n",
            "epoch35 loss:21.066225051879883 weight:1.9841355085372925 bias:1.0442842245101929\n",
            "epoch36 loss:21.065706253051758 weight:1.9841564893722534 bias:1.0450047254562378\n",
            "epoch37 loss:21.065185546875 weight:1.9841045141220093 bias:1.0457227230072021\n",
            "epoch38 loss:21.06467056274414 weight:1.9841052293777466 bias:1.046441912651062\n",
            "epoch39 loss:21.064157485961914 weight:1.9840680360794067 bias:1.0471596717834473\n",
            "epoch40 loss:21.063640594482422 weight:1.984058141708374 bias:1.0478779077529907\n",
            "epoch41 loss:21.063121795654297 weight:1.984028697013855 bias:1.0485951900482178\n",
            "epoch42 loss:21.062604904174805 weight:1.9840131998062134 bias:1.0493125915527344\n",
            "epoch43 loss:21.062095642089844 weight:1.98398756980896 bias:1.0500292778015137\n",
            "epoch44 loss:21.061574935913086 weight:1.9839695692062378 bias:1.0507458448410034\n",
            "epoch45 loss:21.061071395874023 weight:1.9839458465576172 bias:1.051461935043335\n",
            "epoch46 loss:21.06055450439453 weight:1.9839262962341309 bias:1.0521777868270874\n",
            "epoch47 loss:21.060043334960938 weight:1.9839037656784058 bias:1.0528931617736816\n",
            "epoch48 loss:21.059534072875977 weight:1.9838833808898926 bias:1.0536082983016968\n",
            "epoch49 loss:21.05901527404785 weight:1.9838614463806152 bias:1.0543230772018433\n",
            "epoch50 loss:21.058507919311523 weight:1.9838409423828125 bias:1.055037498474121\n"
          ],
          "name": "stdout"
        }
      ]
    },
    {
      "cell_type": "code",
      "metadata": {
        "id": "SdoX19K26mHC",
        "colab_type": "code",
        "colab": {
          "base_uri": "https://localhost:8080/",
          "height": 296
        },
        "outputId": "828b763e-ce34-4017-c67f-b16820c7f8a6"
      },
      "source": [
        "plt.plot(range(epochs), losses)\n",
        "plt.ylabel('MSE LOSS')\n",
        "plt.xlabel(epochs)"
      ],
      "execution_count": 35,
      "outputs": [
        {
          "output_type": "execute_result",
          "data": {
            "text/plain": [
              "Text(0.5, 0, '50')"
            ]
          },
          "metadata": {
            "tags": []
          },
          "execution_count": 35
        },
        {
          "output_type": "display_data",
          "data": {
            "image/png": "[encoded data removed]",
            "text/plain": [
              "<Figure size 432x288 with 1 Axes>"
            ]
          },
          "metadata": {
            "tags": [],
            "needs_background": "light"
          }
        }
      ]
    },
    {
      "cell_type": "code",
      "metadata": {
        "id": "9b_HPRvJ6mHE",
        "colab_type": "code",
        "colab": {}
      },
      "source": [
        "x = np.linspace(0.0, 50.0, 50)\n",
        "current_weight = model.linear.weight.item()\n",
        "current_bias = model.linear.bias.item()\n",
        "\n",
        "predicted_y = current_weight*x + current_bias"
      ],
      "execution_count": 36,
      "outputs": []
    },
    {
      "cell_type": "code",
      "metadata": {
        "id": "YlEObeKh6mHG",
        "colab_type": "code",
        "colab": {
          "base_uri": "https://localhost:8080/",
          "height": 238
        },
        "outputId": "e52eeea3-bd43-4260-9251-d3df24f8a287"
      },
      "source": [
        "predicted_y"
      ],
      "execution_count": 37,
      "outputs": [
        {
          "output_type": "execute_result",
          "data": {
            "text/plain": [
              "array([  1.05575156,   3.08005679,   5.10436203,   7.12866726,\n",
              "         9.15297249,  11.17727772,  13.20158295,  15.22588818,\n",
              "        17.25019342,  19.27449865,  21.29880388,  23.32310911,\n",
              "        25.34741434,  27.37171957,  29.39602481,  31.42033004,\n",
              "        33.44463527,  35.4689405 ,  37.49324573,  39.51755096,\n",
              "        41.5418562 ,  43.56616143,  45.59046666,  47.61477189,\n",
              "        49.63907712,  51.66338236,  53.68768759,  55.71199282,\n",
              "        57.73629805,  59.76060328,  61.78490851,  63.80921375,\n",
              "        65.83351898,  67.85782421,  69.88212944,  71.90643467,\n",
              "        73.9307399 ,  75.95504514,  77.97935037,  80.0036556 ,\n",
              "        82.02796083,  84.05226606,  86.07657129,  88.10087653,\n",
              "        90.12518176,  92.14948699,  94.17379222,  96.19809745,\n",
              "        98.22240268, 100.24670792])"
            ]
          },
          "metadata": {
            "tags": []
          },
          "execution_count": 37
        }
      ]
    },
    {
      "cell_type": "code",
      "metadata": {
        "id": "KkfnuPHg6mHI",
        "colab_type": "code",
        "colab": {
          "base_uri": "https://localhost:8080/",
          "height": 282
        },
        "outputId": "a58c7a71-8283-40cd-ee76-3d6a431fb0d2"
      },
      "source": [
        "plt.scatter(X.numpy(), y.numpy())\n",
        "plt.plot(x, predicted_y, 'r')"
      ],
      "execution_count": 38,
      "outputs": [
        {
          "output_type": "execute_result",
          "data": {
            "text/plain": [
              "[<matplotlib.lines.Line2D at 0x7f7d7bfd72e8>]"
            ]
          },
          "metadata": {
            "tags": []
          },
          "execution_count": 38
        },
        {
          "output_type": "display_data",
          "data": {
            "image/png": "[encoded data removed]",
            "text/plain": [
              "<Figure size 432x288 with 1 Axes>"
            ]
          },
          "metadata": {
            "tags": [],
            "needs_background": "light"
          }
        }
      ]
    },
    {
      "cell_type": "code",
      "metadata": {
        "id": "vCxqVpbN6mHK",
        "colab_type": "code",
        "colab": {}
      },
      "source": [
        ""
      ],
      "execution_count": 38,
      "outputs": []
    }
  ]
}